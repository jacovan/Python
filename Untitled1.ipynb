{
 "cells": [
  {
   "cell_type": "code",
   "execution_count": 1,
   "id": "31f3e99c-7758-4f0e-9e12-70e42db465ef",
   "metadata": {},
   "outputs": [],
   "source": [
    "%load_ext sql"
   ]
  },
  {
   "cell_type": "code",
   "execution_count": 6,
   "id": "e6745a7f-1b5e-4d98-977a-535aaf30e8ba",
   "metadata": {},
   "outputs": [
    {
     "name": "stdout",
     "output_type": "stream",
     "text": [
      "Requirement already satisfied: ibm_db==3.1.0 in c:\\users\\jacob\\appdata\\local\\programs\\python\\python39\\lib\\site-packages (3.1.0)\n",
      "Requirement already satisfied: ibm_db_sa==0.3.3 in c:\\users\\jacob\\appdata\\local\\programs\\python\\python39\\lib\\site-packages (0.3.3)\n",
      "Requirement already satisfied: sqlalchemy>=0.7.3 in c:\\users\\jacob\\appdata\\local\\programs\\python\\python39\\lib\\site-packages (from ibm_db_sa==0.3.3) (2.0.37)\n",
      "Requirement already satisfied: greenlet!=0.4.17 in c:\\users\\jacob\\appdata\\roaming\\python\\python39\\site-packages (from sqlalchemy>=0.7.3->ibm_db_sa==0.3.3) (3.1.1)\n",
      "Requirement already satisfied: typing-extensions>=4.6.0 in c:\\users\\jacob\\appdata\\local\\programs\\python\\python39\\lib\\site-packages (from sqlalchemy>=0.7.3->ibm_db_sa==0.3.3) (4.12.2)\n"
     ]
    }
   ],
   "source": [
    "!pip install ibm_db==3.1.0 ibm_db_sa==0.3.3"
   ]
  },
  {
   "cell_type": "code",
   "execution_count": null,
   "id": "774c4bc4-0cf7-467d-a53d-2dc63d595f9b",
   "metadata": {},
   "outputs": [],
   "source": [
    "%sql ibm_db_sa://ddm73608:Tth6At9WJqFes20F@54a2f15b-5c0f-46df-8954-7e38e612c2bd.c1ogj3sd0tgtu0lqde00.databases.appdomain.cloud:32733/bludb?security=SSL"
   ]
  },
  {
   "cell_type": "code",
   "execution_count": null,
   "id": "73dd1e48-1a38-4559-8e37-a57ccc635d1a",
   "metadata": {},
   "outputs": [],
   "source": []
  }
 ],
 "metadata": {
  "kernelspec": {
   "display_name": "Python 3 (ipykernel)",
   "language": "python",
   "name": "python3"
  },
  "language_info": {
   "codemirror_mode": {
    "name": "ipython",
    "version": 3
   },
   "file_extension": ".py",
   "mimetype": "text/x-python",
   "name": "python",
   "nbconvert_exporter": "python",
   "pygments_lexer": "ipython3",
   "version": "3.9.6"
  }
 },
 "nbformat": 4,
 "nbformat_minor": 5
}
